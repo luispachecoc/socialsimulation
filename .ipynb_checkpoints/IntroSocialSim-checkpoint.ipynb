{
 "cells": [
  {
   "cell_type": "markdown",
   "metadata": {
    "id": "LY0Hl_97_1v9"
   },
   "source": [
    "<img src=\"https://i.imgur.com/6U6q5jQ.png\"/>\n",
    "\n",
    "_____"
   ]
  },
  {
   "cell_type": "markdown",
   "metadata": {
    "id": "yi8x5qtw_1wI"
   },
   "source": [
    "<a target=\"_blank\" href=\"https://colab.research.google.com/github/SocialAnalytics-StrategicIntelligence/introSocialSim/blob/main/IntroSocialSim.ipynb\">\n",
    "  <img src=\"https://colab.research.google.com/assets/colab-badge.svg\" alt=\"Open In Colab\"/>\n",
    "</a>\n",
    "\n",
    "# Introduction to Social Simulation\n",
    "\n",
    "Statistical analysis benefits primarily the study of variables/ factors distributions. We could complement that approach if we focus on the actors that produce the variables.\n",
    "\n",
    "However, representing the actor is not an easy task:\n",
    "\n",
    "* A social outcome is a **complex** aggregate of individual actors. In general we call social outcomes **emergent** results of individual decisions.\n",
    "\n",
    "* Individual decisions have been assumed to be rational, which over simplyfies models of actors. As a matter of fact, decision making is a field under study.\n",
    "\n",
    "* Information processing of agents is biased by \"culture\" (beliefs, experience) and institutions (rules, habits). And many paradigms can co-exist in a particular group. Change is possible, but social structure and culture limits it.\n",
    "\n",
    "* Actors actions and decisions occur within a network of agents. An actor can be part of several networks.\n",
    "\n",
    "\n",
    "The field related to this study is **Computational Social Science**. The particular methodology is **agent-based modelling**."
   ]
  },
  {
   "cell_type": "markdown",
   "metadata": {
    "id": "hljUjTII_1wK"
   },
   "source": [
    "# A simple game as an example\n",
    "\n",
    "According to WIKIPEDIA, the game Rock, Paper, Scissors is a simultaneous, zero-sum game, with three possible outcomes: a draw, a win, or a loss:\n",
    "\n",
    "* A player who decides to play **ROCK** will beat another player who chooses **SCISSORS** (\"rock crushes scissors\" or \"breaks scissors\")\n",
    "* A player who decides to play **ROCK**  will lose to one who has played **PAPER** (\"paper covers rock\").\n",
    "* A player who decides to play **PAPER** will lose to a play of **SCISSORS** (\"scissors cuts paper\").\n",
    "* If both players choose the same shape, the game is tied.\n",
    "\n",
    "Let´s represent the game:\n",
    "\n",
    "## Strategies\n",
    "\n",
    "Strategies are the options available:"
   ]
  },
  {
   "cell_type": "code",
   "execution_count": 135,
   "metadata": {
    "id": "eOrcuctG_1wM"
   },
   "outputs": [],
   "source": [
    "strategies=['Rock','Paper','Scissors']"
   ]
  },
  {
   "cell_type": "markdown",
   "metadata": {
    "id": "nIhzuGbv_1wP"
   },
   "source": [
    "## Rules\n",
    "\n",
    "The rules tell you that according to a strategy followed, players get a pay-off:"
   ]
  },
  {
   "cell_type": "code",
   "execution_count": 137,
   "metadata": {
    "id": "lTcDfGPR_1wR"
   },
   "outputs": [],
   "source": [
    "payoff={('Rock','Paper'):(0,1),\n",
    "        ('Paper','Rock'):(1,0),\n",
    "        ('Rock','Scissors'):(1,0),\n",
    "        ('Scissors','Rock'):(0,1),\n",
    "        ('Paper','Scissors'):(0,1),\n",
    "        ('Scissors','Paper'):(1,0),\n",
    "        ('Rock','Rock'):(0,0),\n",
    "        ('Paper','Paper'):(0,0),\n",
    "        ('Scissors','Scissors'):(0,0)}"
   ]
  },
  {
   "cell_type": "markdown",
   "metadata": {
    "id": "mMtnagl2_1wS"
   },
   "source": [
    "## Creating and setting up agents:\n",
    "\n",
    "Players have a name, but have no score, and no strategy yet."
   ]
  },
  {
   "cell_type": "code",
   "execution_count": 139,
   "metadata": {
    "id": "lN6Ia385_1wT"
   },
   "outputs": [],
   "source": [
    "Players=[{'name':'John','score':0,'strategy':None},\n",
    "         {'name':'Mary','score':0,'strategy':None}]"
   ]
  },
  {
   "cell_type": "markdown",
   "metadata": {
    "id": "dhF4CsdY_1wV"
   },
   "source": [
    "## Decision making process\n",
    "\n",
    "This is the process to choose an strategy:"
   ]
  },
  {
   "cell_type": "code",
   "execution_count": 141,
   "metadata": {
    "id": "KsS7ZEDB_1wV"
   },
   "outputs": [],
   "source": [
    "from random import choice\n",
    "\n",
    "#simplest strategy: choose randomly\n",
    "choice(strategies);"
   ]
  },
  {
   "cell_type": "markdown",
   "metadata": {
    "id": "orfeDuL4_1wW"
   },
   "source": [
    "## The moment of truth"
   ]
  },
  {
   "cell_type": "markdown",
   "metadata": {
    "id": "zxmnjmFF_1wW"
   },
   "source": [
    "* ### agent decide strategy"
   ]
  },
  {
   "cell_type": "code",
   "execution_count": 144,
   "metadata": {
    "id": "-hx2Zp06_1wX"
   },
   "outputs": [],
   "source": [
    "Players[0]['strategy']=choice(strategies)\n",
    "Players[1]['strategy']=choice(strategies)"
   ]
  },
  {
   "cell_type": "markdown",
   "metadata": {
    "id": "fYMG4axr_1wY"
   },
   "source": [
    "* ### decisions made"
   ]
  },
  {
   "cell_type": "code",
   "execution_count": 146,
   "metadata": {
    "colab": {
     "base_uri": "https://localhost:8080/"
    },
    "id": "DeQ1bGwU_1wY",
    "outputId": "3ec47630-3238-4183-ad2b-f5bb25fd1a06"
   },
   "outputs": [
    {
     "data": {
      "text/plain": [
       "('Paper', 'Paper')"
      ]
     },
     "execution_count": 146,
     "metadata": {},
     "output_type": "execute_result"
    }
   ],
   "source": [
    "Players[0]['strategy'],Players[1]['strategy']"
   ]
  },
  {
   "cell_type": "code",
   "execution_count": 147,
   "metadata": {
    "colab": {
     "base_uri": "https://localhost:8080/"
    },
    "id": "SEmKqham_1wY",
    "outputId": "7c667447-7974-4de6-e045-69074b366908"
   },
   "outputs": [
    {
     "data": {
      "text/plain": [
       "(0, 0)"
      ]
     },
     "execution_count": 147,
     "metadata": {},
     "output_type": "execute_result"
    }
   ],
   "source": [
    "# social result of individual decision\n",
    "result = payoff[Players[0]['strategy'],Players[1]['strategy']]\n",
    "result"
   ]
  },
  {
   "cell_type": "markdown",
   "metadata": {
    "id": "CwanbfjX_1wZ"
   },
   "source": [
    "* ### agent benefits/suffers from decision made"
   ]
  },
  {
   "cell_type": "code",
   "execution_count": 149,
   "metadata": {
    "id": "qWXvY23f_1wZ"
   },
   "outputs": [],
   "source": [
    "# update agents situation\n",
    "Players[0]['score']+=result[0]\n",
    "Players[1]['score']+=result[1]"
   ]
  },
  {
   "cell_type": "code",
   "execution_count": 150,
   "metadata": {
    "colab": {
     "base_uri": "https://localhost:8080/"
    },
    "id": "wIf3CFNy_1wa",
    "outputId": "346b5b03-ed5b-4e4b-e0b7-ff9d0bd70d5a"
   },
   "outputs": [
    {
     "data": {
      "text/plain": [
       "[{'name': 'John', 'score': 0, 'strategy': 'Paper'},\n",
       " {'name': 'Mary', 'score': 0, 'strategy': 'Paper'}]"
      ]
     },
     "execution_count": 150,
     "metadata": {},
     "output_type": "execute_result"
    }
   ],
   "source": [
    "# current agent situation\n",
    "Players"
   ]
  },
  {
   "cell_type": "markdown",
   "metadata": {
    "id": "bdvbAPID_1wb"
   },
   "source": [
    "* ### social outcome"
   ]
  },
  {
   "cell_type": "code",
   "execution_count": 152,
   "metadata": {
    "colab": {
     "base_uri": "https://localhost:8080/",
     "height": 125
    },
    "id": "PqK4MDsE_1wb",
    "outputId": "b833c199-d5b9-45d7-df95-935dbb147461"
   },
   "outputs": [
    {
     "data": {
      "text/html": [
       "<div>\n",
       "<style scoped>\n",
       "    .dataframe tbody tr th:only-of-type {\n",
       "        vertical-align: middle;\n",
       "    }\n",
       "\n",
       "    .dataframe tbody tr th {\n",
       "        vertical-align: top;\n",
       "    }\n",
       "\n",
       "    .dataframe thead th {\n",
       "        text-align: right;\n",
       "    }\n",
       "</style>\n",
       "<table border=\"1\" class=\"dataframe\">\n",
       "  <thead>\n",
       "    <tr style=\"text-align: right;\">\n",
       "      <th></th>\n",
       "      <th>name</th>\n",
       "      <th>score</th>\n",
       "      <th>strategy</th>\n",
       "    </tr>\n",
       "  </thead>\n",
       "  <tbody>\n",
       "    <tr>\n",
       "      <th>0</th>\n",
       "      <td>John</td>\n",
       "      <td>0</td>\n",
       "      <td>Paper</td>\n",
       "    </tr>\n",
       "    <tr>\n",
       "      <th>1</th>\n",
       "      <td>Mary</td>\n",
       "      <td>0</td>\n",
       "      <td>Paper</td>\n",
       "    </tr>\n",
       "  </tbody>\n",
       "</table>\n",
       "</div>"
      ],
      "text/plain": [
       "   name  score strategy\n",
       "0  John      0    Paper\n",
       "1  Mary      0    Paper"
      ]
     },
     "execution_count": 152,
     "metadata": {},
     "output_type": "execute_result"
    }
   ],
   "source": [
    "import pandas as pd\n",
    "\n",
    "socialResults=pd.DataFrame((Players[0], Players[1]))\n",
    "socialResults"
   ]
  },
  {
   "cell_type": "code",
   "execution_count": 153,
   "metadata": {
    "colab": {
     "base_uri": "https://localhost:8080/",
     "height": 81
    },
    "id": "9BMCxu-J_1wc",
    "outputId": "34f60849-442b-49a3-8ca2-8b222e8b2f67"
   },
   "outputs": [
    {
     "data": {
      "text/html": [
       "<div>\n",
       "<style scoped>\n",
       "    .dataframe tbody tr th:only-of-type {\n",
       "        vertical-align: middle;\n",
       "    }\n",
       "\n",
       "    .dataframe tbody tr th {\n",
       "        vertical-align: top;\n",
       "    }\n",
       "\n",
       "    .dataframe thead th {\n",
       "        text-align: right;\n",
       "    }\n",
       "</style>\n",
       "<table border=\"1\" class=\"dataframe\">\n",
       "  <thead>\n",
       "    <tr style=\"text-align: right;\">\n",
       "      <th></th>\n",
       "      <th>name</th>\n",
       "      <th>score</th>\n",
       "      <th>strategy</th>\n",
       "    </tr>\n",
       "  </thead>\n",
       "  <tbody>\n",
       "    <tr>\n",
       "      <th>0</th>\n",
       "      <td>John</td>\n",
       "      <td>0</td>\n",
       "      <td>Paper</td>\n",
       "    </tr>\n",
       "    <tr>\n",
       "      <th>1</th>\n",
       "      <td>Mary</td>\n",
       "      <td>0</td>\n",
       "      <td>Paper</td>\n",
       "    </tr>\n",
       "  </tbody>\n",
       "</table>\n",
       "</div>"
      ],
      "text/plain": [
       "   name  score strategy\n",
       "0  John      0    Paper\n",
       "1  Mary      0    Paper"
      ]
     },
     "execution_count": 153,
     "metadata": {},
     "output_type": "execute_result"
    }
   ],
   "source": [
    "winnerScore=socialResults.score.max()\n",
    "\n",
    "#social outcome\n",
    "socialResults[socialResults.score==winnerScore]"
   ]
  },
  {
   "cell_type": "markdown",
   "metadata": {
    "id": "6e5Dr-fg_1wd"
   },
   "source": [
    "# More players"
   ]
  },
  {
   "cell_type": "code",
   "execution_count": 155,
   "metadata": {
    "id": "EHF193yd_1wd"
   },
   "outputs": [],
   "source": [
    "# names of players\n",
    "names=['Jim','Jane','Peter','Zoe']"
   ]
  },
  {
   "cell_type": "code",
   "execution_count": 156,
   "metadata": {
    "id": "H2ihZbSL_1wd"
   },
   "outputs": [],
   "source": [
    "# setting up players\n",
    "society=[{'name':n,'score':0,'strategy':None} for n in names]"
   ]
  },
  {
   "cell_type": "code",
   "execution_count": 157,
   "metadata": {
    "colab": {
     "base_uri": "https://localhost:8080/"
    },
    "id": "QHqTSCdV_1wd",
    "outputId": "b3a000f6-337f-4978-dd3a-316a07072ecc"
   },
   "outputs": [
    {
     "data": {
      "text/plain": [
       "[{'name': 'Jim', 'score': 0, 'strategy': None},\n",
       " {'name': 'Jane', 'score': 0, 'strategy': None},\n",
       " {'name': 'Peter', 'score': 0, 'strategy': None},\n",
       " {'name': 'Zoe', 'score': 0, 'strategy': None}]"
      ]
     },
     "execution_count": 157,
     "metadata": {},
     "output_type": "execute_result"
    }
   ],
   "source": [
    "# each player a dict:\n",
    "society"
   ]
  },
  {
   "cell_type": "code",
   "execution_count": 158,
   "metadata": {
    "colab": {
     "base_uri": "https://localhost:8080/"
    },
    "id": "5WkQTy3O_1we",
    "outputId": "df912e60-3432-49cb-84d4-503b00b6675c"
   },
   "outputs": [
    {
     "name": "stdout",
     "output_type": "stream",
     "text": [
      "({'name': 'Jim', 'score': 0, 'strategy': None}, {'name': 'Jane', 'score': 0, 'strategy': None})\n",
      "({'name': 'Jim', 'score': 0, 'strategy': None}, {'name': 'Peter', 'score': 0, 'strategy': None})\n",
      "({'name': 'Jim', 'score': 0, 'strategy': None}, {'name': 'Zoe', 'score': 0, 'strategy': None})\n",
      "({'name': 'Jane', 'score': 0, 'strategy': None}, {'name': 'Peter', 'score': 0, 'strategy': None})\n",
      "({'name': 'Jane', 'score': 0, 'strategy': None}, {'name': 'Zoe', 'score': 0, 'strategy': None})\n",
      "({'name': 'Peter', 'score': 0, 'strategy': None}, {'name': 'Zoe', 'score': 0, 'strategy': None})\n"
     ]
    }
   ],
   "source": [
    "import itertools\n",
    "\n",
    "# pair is a tuple of dicts\n",
    "for pair in itertools.combinations(society,2):\n",
    "    print(pair)"
   ]
  },
  {
   "cell_type": "code",
   "execution_count": 159,
   "metadata": {
    "colab": {
     "base_uri": "https://localhost:8080/"
    },
    "id": "UhC7w5qt_1we",
    "outputId": "491bfdbf-f560-4ec9-a6e2-c10a77bd1e06"
   },
   "outputs": [
    {
     "name": "stdout",
     "output_type": "stream",
     "text": [
      "{'name': 'Jim', 'score': 0, 'strategy': None} {'name': 'Jane', 'score': 0, 'strategy': None}\n",
      "{'name': 'Jim', 'score': 0, 'strategy': None} {'name': 'Peter', 'score': 0, 'strategy': None}\n",
      "{'name': 'Jim', 'score': 0, 'strategy': None} {'name': 'Zoe', 'score': 0, 'strategy': None}\n",
      "{'name': 'Jane', 'score': 0, 'strategy': None} {'name': 'Peter', 'score': 0, 'strategy': None}\n",
      "{'name': 'Jane', 'score': 0, 'strategy': None} {'name': 'Zoe', 'score': 0, 'strategy': None}\n",
      "{'name': 'Peter', 'score': 0, 'strategy': None} {'name': 'Zoe', 'score': 0, 'strategy': None}\n"
     ]
    }
   ],
   "source": [
    "import itertools\n",
    "\n",
    "# each dict\n",
    "for player1,player2 in itertools.combinations(society,2):\n",
    "    print(player1,player2)"
   ]
  },
  {
   "cell_type": "code",
   "execution_count": 160,
   "metadata": {
    "id": "p54uKoPS_1we"
   },
   "outputs": [],
   "source": [
    "# resetting society\n",
    "society=[{'name':n,'score':0,'strategy':None} for n in names]\n",
    "\n",
    "# several rounds\n",
    "for aRound in range(100):\n",
    "\n",
    "    # en each round:\n",
    "    for player1,player2 in itertools.combinations(society,2):\n",
    "        # each chooses strategy\n",
    "        player1['strategy']=choice(strategies)\n",
    "\n",
    "        player2['strategy']=choice(strategies)\n",
    "\n",
    "        # result from strategy chosen\n",
    "        result=payoff[player1['strategy'],player2['strategy']]\n",
    "\n",
    "        # update scores\n",
    "        player1['score']+=result[0]\n",
    "        player2['score']+=result[1]\n"
   ]
  },
  {
   "cell_type": "code",
   "execution_count": 161,
   "metadata": {
    "colab": {
     "base_uri": "https://localhost:8080/"
    },
    "id": "wFsPVVSq_1wf",
    "outputId": "e749b063-5e9e-4d79-9cb9-27e13635552d"
   },
   "outputs": [
    {
     "data": {
      "text/plain": [
       "[{'name': 'Jim', 'score': 88, 'strategy': 'Rock'},\n",
       " {'name': 'Jane', 'score': 107, 'strategy': 'Rock'},\n",
       " {'name': 'Peter', 'score': 97, 'strategy': 'Rock'},\n",
       " {'name': 'Zoe', 'score': 105, 'strategy': 'Scissors'}]"
      ]
     },
     "execution_count": 161,
     "metadata": {},
     "output_type": "execute_result"
    }
   ],
   "source": [
    "# final situation\n",
    "society"
   ]
  },
  {
   "cell_type": "code",
   "execution_count": 162,
   "metadata": {
    "id": "--JP4mNS_1wg"
   },
   "outputs": [
    {
     "data": {
      "text/html": [
       "<div>\n",
       "<style scoped>\n",
       "    .dataframe tbody tr th:only-of-type {\n",
       "        vertical-align: middle;\n",
       "    }\n",
       "\n",
       "    .dataframe tbody tr th {\n",
       "        vertical-align: top;\n",
       "    }\n",
       "\n",
       "    .dataframe thead th {\n",
       "        text-align: right;\n",
       "    }\n",
       "</style>\n",
       "<table border=\"1\" class=\"dataframe\">\n",
       "  <thead>\n",
       "    <tr style=\"text-align: right;\">\n",
       "      <th></th>\n",
       "      <th>name</th>\n",
       "      <th>score</th>\n",
       "      <th>strategy</th>\n",
       "    </tr>\n",
       "  </thead>\n",
       "  <tbody>\n",
       "    <tr>\n",
       "      <th>0</th>\n",
       "      <td>Jim</td>\n",
       "      <td>88</td>\n",
       "      <td>Rock</td>\n",
       "    </tr>\n",
       "    <tr>\n",
       "      <th>1</th>\n",
       "      <td>Jane</td>\n",
       "      <td>107</td>\n",
       "      <td>Rock</td>\n",
       "    </tr>\n",
       "    <tr>\n",
       "      <th>2</th>\n",
       "      <td>Peter</td>\n",
       "      <td>97</td>\n",
       "      <td>Rock</td>\n",
       "    </tr>\n",
       "    <tr>\n",
       "      <th>3</th>\n",
       "      <td>Zoe</td>\n",
       "      <td>105</td>\n",
       "      <td>Scissors</td>\n",
       "    </tr>\n",
       "  </tbody>\n",
       "</table>\n",
       "</div>"
      ],
      "text/plain": [
       "    name  score  strategy\n",
       "0    Jim     88      Rock\n",
       "1   Jane    107      Rock\n",
       "2  Peter     97      Rock\n",
       "3    Zoe    105  Scissors"
      ]
     },
     "execution_count": 162,
     "metadata": {},
     "output_type": "execute_result"
    }
   ],
   "source": [
    "# as a data frame\n",
    "socialResults=pd.DataFrame(society)\n",
    "socialResults"
   ]
  },
  {
   "cell_type": "code",
   "execution_count": 163,
   "metadata": {
    "id": "lua01iPX_1wg"
   },
   "outputs": [
    {
     "data": {
      "text/html": [
       "<div>\n",
       "<style scoped>\n",
       "    .dataframe tbody tr th:only-of-type {\n",
       "        vertical-align: middle;\n",
       "    }\n",
       "\n",
       "    .dataframe tbody tr th {\n",
       "        vertical-align: top;\n",
       "    }\n",
       "\n",
       "    .dataframe thead th {\n",
       "        text-align: right;\n",
       "    }\n",
       "</style>\n",
       "<table border=\"1\" class=\"dataframe\">\n",
       "  <thead>\n",
       "    <tr style=\"text-align: right;\">\n",
       "      <th></th>\n",
       "      <th>name</th>\n",
       "      <th>score</th>\n",
       "      <th>strategy</th>\n",
       "    </tr>\n",
       "  </thead>\n",
       "  <tbody>\n",
       "    <tr>\n",
       "      <th>1</th>\n",
       "      <td>Jane</td>\n",
       "      <td>107</td>\n",
       "      <td>Rock</td>\n",
       "    </tr>\n",
       "  </tbody>\n",
       "</table>\n",
       "</div>"
      ],
      "text/plain": [
       "   name  score strategy\n",
       "1  Jane    107     Rock"
      ]
     },
     "execution_count": 163,
     "metadata": {},
     "output_type": "execute_result"
    }
   ],
   "source": [
    "winnerScore=socialResults.score.max()\n",
    "\n",
    "#social outcome\n",
    "socialResults[socialResults.score==winnerScore]"
   ]
  },
  {
   "cell_type": "markdown",
   "metadata": {
    "id": "ZfGtbT6U_1wh"
   },
   "source": [
    "### Exercise 1\n",
    "<div class=\"alert-success\">\n",
    "\n",
    "What code would you add  to see the live the results of this last tournament?\n",
    "    \n",
    "</div>"
   ]
  },
  {
   "cell_type": "code",
   "execution_count": 165,
   "metadata": {},
   "outputs": [],
   "source": [
    "from random import choice\n",
    "import itertools\n",
    "\n",
    "# Reiniciar la sociedad\n",
    "society = [{'name': n, 'score': 0, 'strategy': None} for n in names]"
   ]
  },
  {
   "cell_type": "code",
   "execution_count": 166,
   "metadata": {},
   "outputs": [
    {
     "data": {
      "text/plain": [
       "[{'name': 'Jim', 'score': 0, 'strategy': None},\n",
       " {'name': 'Jane', 'score': 0, 'strategy': None},\n",
       " {'name': 'Peter', 'score': 0, 'strategy': None},\n",
       " {'name': 'Zoe', 'score': 0, 'strategy': None}]"
      ]
     },
     "execution_count": 166,
     "metadata": {},
     "output_type": "execute_result"
    }
   ],
   "source": [
    "# each player a dict:\n",
    "society"
   ]
  },
  {
   "cell_type": "code",
   "execution_count": 167,
   "metadata": {},
   "outputs": [
    {
     "name": "stdout",
     "output_type": "stream",
     "text": [
      "Round: 1\n",
      "Jim vs Jane: 1 0\n",
      "Rock Scissors\n",
      "Jim vs Peter: 0 0\n",
      "Paper Paper\n",
      "Jim vs Zoe: 0 0\n",
      "Paper Paper\n",
      "Jane vs Peter: 1 0\n",
      "Paper Rock\n",
      "Jane vs Zoe: 0 1\n",
      "Scissors Rock\n",
      "Peter vs Zoe: 0 1\n",
      "Scissors Rock\n",
      "--------------------\n",
      "Round: 2\n",
      "Jim vs Jane: 1 0\n",
      "Scissors Paper\n",
      "Jim vs Peter: 0 0\n",
      "Rock Rock\n",
      "Jim vs Zoe: 0 0\n",
      "Rock Rock\n",
      "Jane vs Peter: 1 0\n",
      "Paper Rock\n",
      "Jane vs Zoe: 1 0\n",
      "Rock Scissors\n",
      "Peter vs Zoe: 0 1\n",
      "Scissors Rock\n",
      "--------------------\n",
      "Round: 3\n",
      "Jim vs Jane: 0 1\n",
      "Scissors Rock\n",
      "Jim vs Peter: 0 1\n",
      "Paper Scissors\n",
      "Jim vs Zoe: 1 0\n",
      "Scissors Paper\n",
      "Jane vs Peter: 0 1\n",
      "Scissors Rock\n",
      "Jane vs Zoe: 0 0\n",
      "Paper Paper\n",
      "Peter vs Zoe: 0 1\n",
      "Paper Scissors\n",
      "--------------------\n",
      "Round: 4\n",
      "Jim vs Jane: 1 0\n",
      "Scissors Paper\n",
      "Jim vs Peter: 0 1\n",
      "Scissors Rock\n",
      "Jim vs Zoe: 1 0\n",
      "Scissors Paper\n",
      "Jane vs Peter: 1 0\n",
      "Rock Scissors\n",
      "Jane vs Zoe: 0 1\n",
      "Paper Scissors\n",
      "Peter vs Zoe: 0 0\n",
      "Scissors Scissors\n",
      "--------------------\n",
      "Round: 5\n",
      "Jim vs Jane: 0 0\n",
      "Paper Paper\n",
      "Jim vs Peter: 0 1\n",
      "Paper Scissors\n",
      "Jim vs Zoe: 0 1\n",
      "Paper Scissors\n",
      "Jane vs Peter: 0 0\n",
      "Scissors Scissors\n",
      "Jane vs Zoe: 0 1\n",
      "Scissors Rock\n",
      "Peter vs Zoe: 0 0\n",
      "Paper Paper\n",
      "--------------------\n",
      "Round: 6\n",
      "Jim vs Jane: 0 1\n",
      "Paper Scissors\n",
      "Jim vs Peter: 1 0\n",
      "Paper Rock\n",
      "Jim vs Zoe: 1 0\n",
      "Rock Scissors\n",
      "Jane vs Peter: 1 0\n",
      "Paper Rock\n",
      "Jane vs Zoe: 1 0\n",
      "Rock Scissors\n",
      "Peter vs Zoe: 1 0\n",
      "Scissors Paper\n",
      "--------------------\n",
      "Round: 7\n",
      "Jim vs Jane: 1 0\n",
      "Scissors Paper\n",
      "Jim vs Peter: 1 0\n",
      "Rock Scissors\n",
      "Jim vs Zoe: 0 0\n",
      "Paper Paper\n",
      "Jane vs Peter: 1 0\n",
      "Scissors Paper\n",
      "Jane vs Zoe: 0 0\n",
      "Paper Paper\n",
      "Peter vs Zoe: 1 0\n",
      "Paper Rock\n",
      "--------------------\n",
      "Round: 8\n",
      "Jim vs Jane: 1 0\n",
      "Paper Rock\n",
      "Jim vs Peter: 0 1\n",
      "Paper Scissors\n",
      "Jim vs Zoe: 0 1\n",
      "Paper Scissors\n",
      "Jane vs Peter: 1 0\n",
      "Paper Rock\n",
      "Jane vs Zoe: 0 0\n",
      "Rock Rock\n",
      "Peter vs Zoe: 0 0\n",
      "Scissors Scissors\n",
      "--------------------\n",
      "Round: 9\n",
      "Jim vs Jane: 0 1\n",
      "Scissors Rock\n",
      "Jim vs Peter: 0 1\n",
      "Rock Paper\n",
      "Jim vs Zoe: 0 0\n",
      "Scissors Scissors\n",
      "Jane vs Peter: 1 0\n",
      "Rock Scissors\n",
      "Jane vs Zoe: 0 1\n",
      "Scissors Rock\n",
      "Peter vs Zoe: 1 0\n",
      "Scissors Paper\n",
      "--------------------\n",
      "Round: 10\n",
      "Jim vs Jane: 0 0\n",
      "Rock Rock\n",
      "Jim vs Peter: 0 0\n",
      "Rock Rock\n",
      "Jim vs Zoe: 0 1\n",
      "Scissors Rock\n",
      "Jane vs Peter: 1 0\n",
      "Rock Scissors\n",
      "Jane vs Zoe: 0 1\n",
      "Scissors Rock\n",
      "Peter vs Zoe: 1 0\n",
      "Paper Rock\n",
      "--------------------\n",
      "Final Scores:\n",
      "Jane - Score: 13\n",
      "Zoe - Score: 11\n",
      "Jim - Score: 10\n",
      "Peter - Score: 10\n",
      "The winner is Jane with a score of 13!\n"
     ]
    }
   ],
   "source": [
    "# Rondas\n",
    "num_rounds = 10  # Puedes cambiarlo\n",
    "round_count = 0\n",
    "\n",
    "# Varias rondas\n",
    "for aRound in range(num_rounds):\n",
    "    round_count += 1\n",
    "    print(f\"Round: {round_count}\")\n",
    "    \n",
    "    # En cada ronda\n",
    "    for player1, player2 in itertools.combinations(society, 2):\n",
    "        # Cada jugador elige una estrategia\n",
    "        player1['strategy'] = choice(strategies)\n",
    "        player2['strategy'] = choice(strategies)\n",
    "        \n",
    "        # Resultado basado en las estrategias elegidas\n",
    "        result = payoff[player1['strategy'], player2['strategy']]\n",
    "        \n",
    "        # Actualizar puntajes\n",
    "        player1['score'] += result[0]\n",
    "        player2['score'] += result[1]\n",
    "        \n",
    "        # Imprimir resultados\n",
    "        print(f\"{player1['name']} vs {player2['name']}: {result[0]} {result[1]}\")\n",
    "        print(f\"{player1['strategy']} {player2['strategy']}\")\n",
    "    \n",
    "    print(\"-\" * 20)\n",
    "\n",
    "# Determinar el ganador\n",
    "society = sorted(society, key=lambda x: x['score'], reverse=True)\n",
    "\n",
    "# Imprimir puntajes finales\n",
    "print(\"Final Scores:\")\n",
    "for player in society:\n",
    "    print(f\"{player['name']} - Score: {player['score']}\")\n",
    "\n",
    "# Anunciar al ganador\n",
    "winner = society[0]\n",
    "print(f\"The winner is {winner['name']} with a score of {winner['score']}!\")"
   ]
  },
  {
   "cell_type": "markdown",
   "metadata": {
    "id": "Y1dXe-xm_1wh"
   },
   "source": [
    "### Exercise 2\n",
    "<div class=\"alert-success\">\n",
    "\n",
    "How would you implement this game for 10 players, and get the results?\n",
    "    \n",
    "</div>\n",
    "<img src=\"https://i.imgur.com/DE5mjs4.jpg\"/>"
   ]
  },
  {
   "cell_type": "code",
   "execution_count": 169,
   "metadata": {},
   "outputs": [],
   "source": [
    "# Reiniciar la sociedad\n",
    "society = [{'name': n, 'score': 0, 'strategy': None} for n in names]"
   ]
  },
  {
   "cell_type": "code",
   "execution_count": 170,
   "metadata": {},
   "outputs": [
    {
     "data": {
      "text/plain": [
       "[{'name': 'Jim', 'score': 0, 'strategy': None},\n",
       " {'name': 'Jane', 'score': 0, 'strategy': None},\n",
       " {'name': 'Peter', 'score': 0, 'strategy': None},\n",
       " {'name': 'Zoe', 'score': 0, 'strategy': None}]"
      ]
     },
     "execution_count": 170,
     "metadata": {},
     "output_type": "execute_result"
    }
   ],
   "source": [
    "# each player a dict: (verificamos que estén en 0)\n",
    "society"
   ]
  },
  {
   "cell_type": "code",
   "execution_count": 171,
   "metadata": {},
   "outputs": [],
   "source": [
    "strategies2 = ['Rock', 'Paper', 'Scissors', 'Lizard', 'Spock']"
   ]
  },
  {
   "cell_type": "code",
   "execution_count": 172,
   "metadata": {},
   "outputs": [],
   "source": [
    "payoff2 = {\n",
    "    ('Rock', 'Paper'): (0, 1),\n",
    "    ('Paper', 'Rock'): (1, 0),\n",
    "    ('Rock', 'Scissors'): (1, 0),\n",
    "    ('Scissors', 'Rock'): (0, 1),\n",
    "    ('Paper', 'Scissors'): (0, 1),\n",
    "    ('Scissors', 'Paper'): (1, 0),\n",
    "    ('Rock', 'Lizard'): (1, 0),\n",
    "    ('Lizard', 'Rock'): (0, 1),\n",
    "    ('Lizard', 'Spock'): (1, 0),\n",
    "    ('Spock', 'Lizard'): (0, 1),\n",
    "    ('Spock', 'Scissors'): (1, 0),\n",
    "    ('Scissors', 'Spock'): (0, 1),\n",
    "    ('Scissors', 'Lizard'): (1, 0),\n",
    "    ('Lizard', 'Scissors'): (0, 1),\n",
    "    ('Lizard', 'Paper'): (1, 0),\n",
    "    ('Paper', 'Lizard'): (0, 1),\n",
    "    ('Paper', 'Spock'): (1, 0),\n",
    "    ('Spock', 'Paper'): (0, 1),\n",
    "    ('Spock', 'Rock'): (1, 0),\n",
    "    ('Rock', 'Spock'): (0, 1),\n",
    "    ('Rock', 'Rock'): (0, 0),\n",
    "    ('Paper', 'Paper'): (0, 0),\n",
    "    ('Scissors', 'Scissors'): (0, 0),\n",
    "    ('Lizard', 'Lizard'): (0, 0),\n",
    "    ('Spock', 'Spock'): (0, 0)\n",
    "}\n"
   ]
  },
  {
   "cell_type": "code",
   "execution_count": 181,
   "metadata": {},
   "outputs": [
    {
     "name": "stdout",
     "output_type": "stream",
     "text": [
      "Round: 1\n",
      "Jim vs Jane: 1 0\n",
      "Spock Rock\n",
      "Jim vs Peter: 0 1\n",
      "Rock Spock\n",
      "Jim vs Zoe: 0 0\n",
      "Rock Rock\n",
      "Jane vs Peter: 1 0\n",
      "Scissors Paper\n",
      "Jane vs Zoe: 0 0\n",
      "Paper Paper\n",
      "Peter vs Zoe: 1 0\n",
      "Spock Scissors\n",
      "--------------------\n",
      "Round: 2\n",
      "Jim vs Jane: 0 1\n",
      "Paper Lizard\n",
      "Jim vs Peter: 1 0\n",
      "Spock Scissors\n",
      "Jim vs Zoe: 1 0\n",
      "Scissors Lizard\n",
      "Jane vs Peter: 1 0\n",
      "Spock Scissors\n",
      "Jane vs Zoe: 1 0\n",
      "Rock Scissors\n",
      "Peter vs Zoe: 0 1\n",
      "Lizard Scissors\n",
      "--------------------\n",
      "Round: 3\n",
      "Jim vs Jane: 1 0\n",
      "Paper Spock\n",
      "Jim vs Peter: 0 1\n",
      "Scissors Spock\n",
      "Jim vs Zoe: 0 0\n",
      "Paper Paper\n",
      "Jane vs Peter: 1 0\n",
      "Lizard Paper\n",
      "Jane vs Zoe: 0 1\n",
      "Rock Paper\n",
      "Peter vs Zoe: 1 0\n",
      "Rock Lizard\n",
      "--------------------\n",
      "Round: 4\n",
      "Jim vs Jane: 0 1\n",
      "Rock Paper\n",
      "Jim vs Peter: 0 1\n",
      "Lizard Rock\n",
      "Jim vs Zoe: 0 1\n",
      "Spock Paper\n",
      "Jane vs Peter: 0 1\n",
      "Lizard Rock\n",
      "Jane vs Zoe: 1 0\n",
      "Paper Rock\n",
      "Peter vs Zoe: 0 1\n",
      "Spock Lizard\n",
      "--------------------\n",
      "Round: 5\n",
      "Jim vs Jane: 1 0\n",
      "Lizard Spock\n",
      "Jim vs Peter: 0 1\n",
      "Scissors Spock\n",
      "Jim vs Zoe: 1 0\n",
      "Lizard Paper\n",
      "Jane vs Peter: 1 0\n",
      "Lizard Paper\n",
      "Jane vs Zoe: 0 1\n",
      "Rock Paper\n",
      "Peter vs Zoe: 1 0\n",
      "Lizard Paper\n",
      "--------------------\n",
      "Round: 6\n",
      "Jim vs Jane: 1 0\n",
      "Paper Rock\n",
      "Jim vs Peter: 0 0\n",
      "Spock Spock\n",
      "Jim vs Zoe: 1 0\n",
      "Paper Rock\n",
      "Jane vs Peter: 1 0\n",
      "Lizard Paper\n",
      "Jane vs Zoe: 0 1\n",
      "Lizard Rock\n",
      "Peter vs Zoe: 0 1\n",
      "Spock Paper\n",
      "--------------------\n",
      "Round: 7\n",
      "Jim vs Jane: 1 0\n",
      "Paper Rock\n",
      "Jim vs Peter: 1 0\n",
      "Spock Scissors\n",
      "Jim vs Zoe: 0 1\n",
      "Paper Lizard\n",
      "Jane vs Peter: 1 0\n",
      "Lizard Spock\n",
      "Jane vs Zoe: 0 1\n",
      "Lizard Scissors\n",
      "Peter vs Zoe: 0 1\n",
      "Rock Spock\n",
      "--------------------\n",
      "Round: 8\n",
      "Jim vs Jane: 0 1\n",
      "Paper Lizard\n",
      "Jim vs Peter: 0 1\n",
      "Spock Lizard\n",
      "Jim vs Zoe: 1 0\n",
      "Scissors Paper\n",
      "Jane vs Peter: 1 0\n",
      "Paper Rock\n",
      "Jane vs Zoe: 0 0\n",
      "Scissors Scissors\n",
      "Peter vs Zoe: 1 0\n",
      "Paper Rock\n",
      "--------------------\n",
      "Round: 9\n",
      "Jim vs Jane: 1 0\n",
      "Rock Scissors\n",
      "Jim vs Peter: 0 0\n",
      "Spock Spock\n",
      "Jim vs Zoe: 0 0\n",
      "Scissors Scissors\n",
      "Jane vs Peter: 0 1\n",
      "Rock Paper\n",
      "Jane vs Zoe: 0 1\n",
      "Scissors Rock\n",
      "Peter vs Zoe: 1 0\n",
      "Scissors Lizard\n",
      "--------------------\n",
      "Round: 10\n",
      "Jim vs Jane: 1 0\n",
      "Lizard Paper\n",
      "Jim vs Peter: 1 0\n",
      "Paper Spock\n",
      "Jim vs Zoe: 0 1\n",
      "Spock Paper\n",
      "Jane vs Peter: 1 0\n",
      "Spock Rock\n",
      "Jane vs Zoe: 0 1\n",
      "Paper Lizard\n",
      "Peter vs Zoe: 0 1\n",
      "Lizard Rock\n",
      "--------------------\n",
      "Final Scores:\n",
      "Jim - Score: 148\n",
      "Jane - Score: 146\n",
      "Peter - Score: 144\n",
      "Zoe - Score: 141\n",
      "The winner is Jim with a score of 148!\n"
     ]
    }
   ],
   "source": [
    "# Rondas\n",
    "num_rounds = 10  # seleccionado al azar\n",
    "round_count = 0\n",
    "\n",
    "# Varias rondas\n",
    "for aRound in range(num_rounds):\n",
    "    round_count += 1\n",
    "    print(f\"Round: {round_count}\")\n",
    "    \n",
    "    # En cada ronda\n",
    "    for player1, player2 in itertools.combinations(society, 2):\n",
    "        # Cada jugador elige una estrategia\n",
    "        player1['strategy'] = choice(strategies2)\n",
    "        player2['strategy'] = choice(strategies2)\n",
    "        \n",
    "        # Resultado basado en las estrategias elegidas\n",
    "        result = payoff2[player1['strategy'], player2['strategy']]\n",
    "        \n",
    "        # Actualizar puntajes\n",
    "        player1['score'] += result[0]\n",
    "        player2['score'] += result[1]\n",
    "        \n",
    "        # Imprimir resultados\n",
    "        print(f\"{player1['name']} vs {player2['name']}: {result[0]} {result[1]}\")\n",
    "        print(f\"{player1['strategy']} {player2['strategy']}\")\n",
    "    \n",
    "    print(\"-\" * 20)\n",
    "\n",
    "# Determinar el ganador\n",
    "society = sorted(society, key=lambda x: x['score'], reverse=True)\n",
    "\n",
    "# Imprimir puntajes finales\n",
    "print(\"Final Scores:\")\n",
    "for player in society:\n",
    "    print(f\"{player['name']} - Score: {player['score']}\")\n",
    "\n",
    "# Anunciar al ganador\n",
    "winner = society[0]\n",
    "print(f\"The winner is {winner['name']} with a score of {winner['score']}!\")"
   ]
  },
  {
   "cell_type": "markdown",
   "metadata": {
    "id": "0VAZiWYM_1wi"
   },
   "source": [
    "# Abstraction of agents\n",
    "\n",
    "Let's see some abstraction known 'OOP', which stands for Objetc-Oriented Programming.\n",
    "\n",
    "* This is the creation of an agent object and its methods:"
   ]
  },
  {
   "cell_type": "code",
   "execution_count": null,
   "metadata": {
    "id": "lWMv4EZK_1wi"
   },
   "outputs": [],
   "source": [
    "class Player:    # object class\n",
    "\n",
    "    def __init__(self,name,score=0): # create the object (self) for the class\n",
    "        self.name=name               # with some variables\n",
    "        self.score=score\n",
    "\n",
    "    def increase_score(self,value):  # metho for object class\n",
    "        self.score+=value"
   ]
  },
  {
   "cell_type": "markdown",
   "metadata": {
    "id": "5PfGFawv_1wj"
   },
   "source": [
    "Once created, you can give origin to instances of the object:"
   ]
  },
  {
   "cell_type": "code",
   "execution_count": null,
   "metadata": {
    "id": "3ZM8EROx_1wj"
   },
   "outputs": [],
   "source": [
    "Mary=Player(\"Mary\")\n",
    "John=Player(\"John\")"
   ]
  },
  {
   "cell_type": "markdown",
   "metadata": {
    "id": "MK40ogdu_1wj"
   },
   "source": [
    "Let's use some previous code:"
   ]
  },
  {
   "cell_type": "code",
   "execution_count": null,
   "metadata": {
    "id": "u-5-UKDq_1wt"
   },
   "outputs": [],
   "source": [
    "John_strategy=choice(strategies)\n",
    "Mary_strategy=choice(strategies)\n",
    "\n",
    "John_PayOff,Mary_PayOff=payoff[John_strategy,Mary_strategy]\n",
    "John_PayOff,Mary_PayOff"
   ]
  },
  {
   "cell_type": "markdown",
   "metadata": {
    "id": "VRblkNaS_1wu"
   },
   "source": [
    "We use those values to change the instaces' variables, as defined in the object class:"
   ]
  },
  {
   "cell_type": "code",
   "execution_count": null,
   "metadata": {
    "id": "jMADJuKg_1wu"
   },
   "outputs": [],
   "source": [
    "John.increase_score(John_PayOff)\n",
    "Mary.increase_score(Mary_PayOff)"
   ]
  },
  {
   "cell_type": "markdown",
   "metadata": {
    "id": "o0BfJGSz_1wu"
   },
   "source": [
    "The instances did update the score:"
   ]
  },
  {
   "cell_type": "code",
   "execution_count": null,
   "metadata": {
    "id": "oIFKLNq8_1wu"
   },
   "outputs": [],
   "source": [
    "John.score, Mary.score"
   ]
  },
  {
   "cell_type": "markdown",
   "metadata": {
    "id": "EE6aoROX_1wv"
   },
   "source": [
    "* A new class that inherists previous class:"
   ]
  },
  {
   "cell_type": "code",
   "execution_count": null,
   "metadata": {
    "id": "0QxDVuxV_1ww"
   },
   "outputs": [],
   "source": [
    "class PlayerBetter(Player):\n",
    "    def __init__(self,name,score=0):\n",
    "        Player.__init__(self,name,score=0)\n",
    "        self.strategy=None\n",
    "\n",
    "    def increase_score(self,value):\n",
    "        self.score+=value\n",
    "\n",
    "    def get_strategy(self):\n",
    "        from random import choice\n",
    "        strategies=['Rock','Paper','Scissors']\n",
    "        self.strategy=choice(strategies)\n",
    "        return self.strategy"
   ]
  },
  {
   "cell_type": "markdown",
   "metadata": {
    "id": "_9sFrRa9_1ww"
   },
   "source": [
    "We can use the new class:"
   ]
  },
  {
   "cell_type": "code",
   "execution_count": null,
   "metadata": {
    "id": "6HWZtg--_1wx"
   },
   "outputs": [],
   "source": [
    "Mary=PlayerBetter(\"Mary\")\n",
    "John=PlayerBetter(\"John\")\n",
    "\n",
    "# not needed\n",
    "# John_strategy=choice(strategies)\n",
    "# Mary_strategy=choice(strategies)\n",
    "\n",
    "John_PayOff,Mary_PayOff=payoff[John.get_strategy(),Mary.get_strategy()]\n",
    "John.increase_score(John_PayOff)\n",
    "Mary.increase_score(Mary_PayOff)\n",
    "##\n",
    "John.score, Mary.score"
   ]
  },
  {
   "cell_type": "markdown",
   "metadata": {
    "id": "BdGDyGxD_1wx"
   },
   "source": [
    "The new class saves the current strategy:"
   ]
  },
  {
   "cell_type": "code",
   "execution_count": null,
   "metadata": {
    "id": "glEPeuZL_1wx"
   },
   "outputs": [],
   "source": [
    "print(John.strategy, Mary.strategy)"
   ]
  },
  {
   "cell_type": "markdown",
   "metadata": {
    "id": "i2fCfFvq_1wy"
   },
   "source": [
    "We can use the new class repeatedly:"
   ]
  },
  {
   "cell_type": "code",
   "execution_count": null,
   "metadata": {
    "id": "WrTgdsZl_1wy"
   },
   "outputs": [],
   "source": [
    "Mary=PlayerBetter(\"Mary\")\n",
    "John=PlayerBetter(\"John\")\n",
    "\n",
    "for i in range(10):\n",
    "    John_PayOff,Mary_PayOff=payoff[John.get_strategy(),Mary.get_strategy()]\n",
    "    John.increase_score(John_PayOff)\n",
    "    Mary.increase_score(Mary_PayOff)\n",
    "    # see current result\n",
    "    print('round:',i+1)\n",
    "    print(John.score, Mary.score)\n",
    "    print(John.strategy, Mary.strategy)"
   ]
  },
  {
   "cell_type": "markdown",
   "metadata": {
    "id": "FJM__bbG_1wy"
   },
   "source": [
    "<div class=\"alert alert-danger\">\n",
    "  <strong>CHALLENGE!</strong>\n",
    "   <br> * Create classes that allows you to have several players play 100 rounds.\n",
    "   <br> * Save the scores.\n",
    "   <br> * Declare a winner\n",
    "</div>"
   ]
  }
 ],
 "metadata": {
  "colab": {
   "provenance": []
  },
  "hide_input": false,
  "kernelspec": {
   "display_name": "Python 3 (ipykernel)",
   "language": "python",
   "name": "python3"
  },
  "language_info": {
   "codemirror_mode": {
    "name": "ipython",
    "version": 3
   },
   "file_extension": ".py",
   "mimetype": "text/x-python",
   "name": "python",
   "nbconvert_exporter": "python",
   "pygments_lexer": "ipython3",
   "version": "3.12.3"
  }
 },
 "nbformat": 4,
 "nbformat_minor": 4
}
