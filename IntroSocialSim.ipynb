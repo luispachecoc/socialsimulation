{
  "cells": [
    {
      "cell_type": "markdown",
      "metadata": {
        "id": "LY0Hl_97_1v9"
      },
      "source": [
        "<img src=\"https://i.imgur.com/6U6q5jQ.png\"/>\n",
        "\n",
        "_____"
      ]
    },
    {
      "cell_type": "markdown",
      "metadata": {
        "id": "yi8x5qtw_1wI"
      },
      "source": [
        "<a target=\"_blank\" href=\"https://colab.research.google.com/github/SocialAnalytics-StrategicIntelligence/introSocialSim/blob/main/IntroSocialSim.ipynb\">\n",
        "  <img src=\"https://colab.research.google.com/assets/colab-badge.svg\" alt=\"Open In Colab\"/>\n",
        "</a>\n",
        "\n",
        "# Introduction to Social Simulation\n",
        "\n",
        "Statistical analysis benefits primarily the study of variables/ factors distributions. We could complement that approach if we focus on the actors that produce the variables.\n",
        "\n",
        "However, representing the actor is not an easy task:\n",
        "\n",
        "* A social outcome is a **complex** aggregate of individual actors. In general we call social outcomes **emergent** results of individual decisions.\n",
        "\n",
        "* Individual decisions have been assumed to be rational, which over simplyfies models of actors. As a matter of fact, decision making is a field under study.\n",
        "\n",
        "* Information processing of agents is biased by \"culture\" (beliefs, experience) and institutions (rules, habits). And many paradigms can co-exist in a particular group. Change is possible, but social structure and culture limits it.\n",
        "\n",
        "* Actors actions and decisions occur within a network of agents. An actor can be part of several networks.\n",
        "\n",
        "\n",
        "The field related to this study is **Computational Social Science**. The particular methodology is **agent-based modelling**."
      ]
    },
    {
      "cell_type": "markdown",
      "metadata": {
        "id": "hljUjTII_1wK"
      },
      "source": [
        "# A simple game as an example\n",
        "\n",
        "According to WIKIPEDIA, the game Rock, Paper, Scissors is a simultaneous, zero-sum game, with three possible outcomes: a draw, a win, or a loss:\n",
        "\n",
        "* A player who decides to play **ROCK** will beat another player who chooses **SCISSORS** (\"rock crushes scissors\" or \"breaks scissors\")\n",
        "* A player who decides to play **ROCK**  will lose to one who has played **PAPER** (\"paper covers rock\").\n",
        "* A player who decides to play **PAPER** will lose to a play of **SCISSORS** (\"scissors cuts paper\").\n",
        "* If both players choose the same shape, the game is tied.\n",
        "\n",
        "Let´s represent the game:\n",
        "\n",
        "## Strategies\n",
        "\n",
        "Strategies are the options available:"
      ]
    },
    {
      "cell_type": "code",
      "execution_count": 1,
      "metadata": {
        "id": "eOrcuctG_1wM"
      },
      "outputs": [],
      "source": [
        "strategies=['Rock','Paper','Scissors']"
      ]
    },
    {
      "cell_type": "markdown",
      "metadata": {
        "id": "nIhzuGbv_1wP"
      },
      "source": [
        "## Rules\n",
        "\n",
        "The rules tell you that according to a strategy followed, players get a pay-off:"
      ]
    },
    {
      "cell_type": "code",
      "execution_count": 4,
      "metadata": {
        "id": "lTcDfGPR_1wR"
      },
      "outputs": [],
      "source": [
        "payoff={('Rock','Paper'):(0,1),\n",
        "        ('Paper','Rock'):(1,0),\n",
        "        ('Rock','Scissors'):(1,0),\n",
        "        ('Scissors','Rock'):(0,1),\n",
        "        ('Paper','Scissors'):(0,1),\n",
        "        ('Scissors','Paper'):(1,0),\n",
        "        ('Rock','Rock'):(0,0),\n",
        "        ('Paper','Paper'):(0,0),\n",
        "        ('Scissors','Scissors'):(0,0)}"
      ]
    },
    {
      "cell_type": "markdown",
      "metadata": {
        "id": "mMtnagl2_1wS"
      },
      "source": [
        "## Creating and setting up agents:\n",
        "\n",
        "Players have a name, but have no score, and no strategy yet."
      ]
    },
    {
      "cell_type": "code",
      "execution_count": 3,
      "metadata": {
        "id": "lN6Ia385_1wT"
      },
      "outputs": [],
      "source": [
        "Players=[{'name':'John','score':0,'strategy':None},\n",
        "         {'name':'Mary','score':0,'strategy':None}]"
      ]
    },
    {
      "cell_type": "markdown",
      "metadata": {
        "id": "dhF4CsdY_1wV"
      },
      "source": [
        "## Decision making process\n",
        "\n",
        "This is the process to choose an strategy:"
      ]
    },
    {
      "cell_type": "code",
      "execution_count": 5,
      "metadata": {
        "id": "KsS7ZEDB_1wV"
      },
      "outputs": [],
      "source": [
        "from random import choice\n",
        "\n",
        "#simplest strategy: choose randomly\n",
        "choice(strategies);"
      ]
    },
    {
      "cell_type": "markdown",
      "metadata": {
        "id": "orfeDuL4_1wW"
      },
      "source": [
        "## The moment of truth"
      ]
    },
    {
      "cell_type": "markdown",
      "metadata": {
        "id": "zxmnjmFF_1wW"
      },
      "source": [
        "* ### agent decide strategy"
      ]
    },
    {
      "cell_type": "code",
      "execution_count": 6,
      "metadata": {
        "id": "-hx2Zp06_1wX"
      },
      "outputs": [],
      "source": [
        "Players[0]['strategy']=choice(strategies)\n",
        "Players[1]['strategy']=choice(strategies)"
      ]
    },
    {
      "cell_type": "markdown",
      "metadata": {
        "id": "fYMG4axr_1wY"
      },
      "source": [
        "* ### decisions made"
      ]
    },
    {
      "cell_type": "code",
      "execution_count": 7,
      "metadata": {
        "id": "DeQ1bGwU_1wY",
        "outputId": "3ec47630-3238-4183-ad2b-f5bb25fd1a06",
        "colab": {
          "base_uri": "https://localhost:8080/"
        }
      },
      "outputs": [
        {
          "output_type": "execute_result",
          "data": {
            "text/plain": [
              "('Scissors', 'Rock')"
            ]
          },
          "metadata": {},
          "execution_count": 7
        }
      ],
      "source": [
        "Players[0]['strategy'],Players[1]['strategy']"
      ]
    },
    {
      "cell_type": "code",
      "execution_count": 8,
      "metadata": {
        "id": "SEmKqham_1wY",
        "outputId": "7c667447-7974-4de6-e045-69074b366908",
        "colab": {
          "base_uri": "https://localhost:8080/"
        }
      },
      "outputs": [
        {
          "output_type": "execute_result",
          "data": {
            "text/plain": [
              "(0, 1)"
            ]
          },
          "metadata": {},
          "execution_count": 8
        }
      ],
      "source": [
        "# social result of individual decision\n",
        "result = payoff[Players[0]['strategy'],Players[1]['strategy']]\n",
        "result"
      ]
    },
    {
      "cell_type": "markdown",
      "metadata": {
        "id": "CwanbfjX_1wZ"
      },
      "source": [
        "* ### agent benefits/suffers from decision made"
      ]
    },
    {
      "cell_type": "code",
      "execution_count": 9,
      "metadata": {
        "id": "qWXvY23f_1wZ"
      },
      "outputs": [],
      "source": [
        "# update agents situation\n",
        "Players[0]['score']+=result[0]\n",
        "Players[1]['score']+=result[1]"
      ]
    },
    {
      "cell_type": "code",
      "execution_count": 10,
      "metadata": {
        "id": "wIf3CFNy_1wa",
        "outputId": "346b5b03-ed5b-4e4b-e0b7-ff9d0bd70d5a",
        "colab": {
          "base_uri": "https://localhost:8080/"
        }
      },
      "outputs": [
        {
          "output_type": "execute_result",
          "data": {
            "text/plain": [
              "[{'name': 'John', 'score': 0, 'strategy': 'Scissors'},\n",
              " {'name': 'Mary', 'score': 1, 'strategy': 'Rock'}]"
            ]
          },
          "metadata": {},
          "execution_count": 10
        }
      ],
      "source": [
        "# current agent situation\n",
        "Players"
      ]
    },
    {
      "cell_type": "markdown",
      "metadata": {
        "id": "bdvbAPID_1wb"
      },
      "source": [
        "* ### social outcome"
      ]
    },
    {
      "cell_type": "code",
      "execution_count": 11,
      "metadata": {
        "id": "PqK4MDsE_1wb",
        "outputId": "b833c199-d5b9-45d7-df95-935dbb147461",
        "colab": {
          "base_uri": "https://localhost:8080/",
          "height": 125
        }
      },
      "outputs": [
        {
          "output_type": "execute_result",
          "data": {
            "text/plain": [
              "   name  score  strategy\n",
              "0  John      0  Scissors\n",
              "1  Mary      1      Rock"
            ],
            "text/html": [
              "\n",
              "  <div id=\"df-471c7cc6-9a3a-40a6-8ed5-d79ffca97c1a\" class=\"colab-df-container\">\n",
              "    <div>\n",
              "<style scoped>\n",
              "    .dataframe tbody tr th:only-of-type {\n",
              "        vertical-align: middle;\n",
              "    }\n",
              "\n",
              "    .dataframe tbody tr th {\n",
              "        vertical-align: top;\n",
              "    }\n",
              "\n",
              "    .dataframe thead th {\n",
              "        text-align: right;\n",
              "    }\n",
              "</style>\n",
              "<table border=\"1\" class=\"dataframe\">\n",
              "  <thead>\n",
              "    <tr style=\"text-align: right;\">\n",
              "      <th></th>\n",
              "      <th>name</th>\n",
              "      <th>score</th>\n",
              "      <th>strategy</th>\n",
              "    </tr>\n",
              "  </thead>\n",
              "  <tbody>\n",
              "    <tr>\n",
              "      <th>0</th>\n",
              "      <td>John</td>\n",
              "      <td>0</td>\n",
              "      <td>Scissors</td>\n",
              "    </tr>\n",
              "    <tr>\n",
              "      <th>1</th>\n",
              "      <td>Mary</td>\n",
              "      <td>1</td>\n",
              "      <td>Rock</td>\n",
              "    </tr>\n",
              "  </tbody>\n",
              "</table>\n",
              "</div>\n",
              "    <div class=\"colab-df-buttons\">\n",
              "\n",
              "  <div class=\"colab-df-container\">\n",
              "    <button class=\"colab-df-convert\" onclick=\"convertToInteractive('df-471c7cc6-9a3a-40a6-8ed5-d79ffca97c1a')\"\n",
              "            title=\"Convert this dataframe to an interactive table.\"\n",
              "            style=\"display:none;\">\n",
              "\n",
              "  <svg xmlns=\"http://www.w3.org/2000/svg\" height=\"24px\" viewBox=\"0 -960 960 960\">\n",
              "    <path d=\"M120-120v-720h720v720H120Zm60-500h600v-160H180v160Zm220 220h160v-160H400v160Zm0 220h160v-160H400v160ZM180-400h160v-160H180v160Zm440 0h160v-160H620v160ZM180-180h160v-160H180v160Zm440 0h160v-160H620v160Z\"/>\n",
              "  </svg>\n",
              "    </button>\n",
              "\n",
              "  <style>\n",
              "    .colab-df-container {\n",
              "      display:flex;\n",
              "      gap: 12px;\n",
              "    }\n",
              "\n",
              "    .colab-df-convert {\n",
              "      background-color: #E8F0FE;\n",
              "      border: none;\n",
              "      border-radius: 50%;\n",
              "      cursor: pointer;\n",
              "      display: none;\n",
              "      fill: #1967D2;\n",
              "      height: 32px;\n",
              "      padding: 0 0 0 0;\n",
              "      width: 32px;\n",
              "    }\n",
              "\n",
              "    .colab-df-convert:hover {\n",
              "      background-color: #E2EBFA;\n",
              "      box-shadow: 0px 1px 2px rgba(60, 64, 67, 0.3), 0px 1px 3px 1px rgba(60, 64, 67, 0.15);\n",
              "      fill: #174EA6;\n",
              "    }\n",
              "\n",
              "    .colab-df-buttons div {\n",
              "      margin-bottom: 4px;\n",
              "    }\n",
              "\n",
              "    [theme=dark] .colab-df-convert {\n",
              "      background-color: #3B4455;\n",
              "      fill: #D2E3FC;\n",
              "    }\n",
              "\n",
              "    [theme=dark] .colab-df-convert:hover {\n",
              "      background-color: #434B5C;\n",
              "      box-shadow: 0px 1px 3px 1px rgba(0, 0, 0, 0.15);\n",
              "      filter: drop-shadow(0px 1px 2px rgba(0, 0, 0, 0.3));\n",
              "      fill: #FFFFFF;\n",
              "    }\n",
              "  </style>\n",
              "\n",
              "    <script>\n",
              "      const buttonEl =\n",
              "        document.querySelector('#df-471c7cc6-9a3a-40a6-8ed5-d79ffca97c1a button.colab-df-convert');\n",
              "      buttonEl.style.display =\n",
              "        google.colab.kernel.accessAllowed ? 'block' : 'none';\n",
              "\n",
              "      async function convertToInteractive(key) {\n",
              "        const element = document.querySelector('#df-471c7cc6-9a3a-40a6-8ed5-d79ffca97c1a');\n",
              "        const dataTable =\n",
              "          await google.colab.kernel.invokeFunction('convertToInteractive',\n",
              "                                                    [key], {});\n",
              "        if (!dataTable) return;\n",
              "\n",
              "        const docLinkHtml = 'Like what you see? Visit the ' +\n",
              "          '<a target=\"_blank\" href=https://colab.research.google.com/notebooks/data_table.ipynb>data table notebook</a>'\n",
              "          + ' to learn more about interactive tables.';\n",
              "        element.innerHTML = '';\n",
              "        dataTable['output_type'] = 'display_data';\n",
              "        await google.colab.output.renderOutput(dataTable, element);\n",
              "        const docLink = document.createElement('div');\n",
              "        docLink.innerHTML = docLinkHtml;\n",
              "        element.appendChild(docLink);\n",
              "      }\n",
              "    </script>\n",
              "  </div>\n",
              "\n",
              "\n",
              "<div id=\"df-3f2d090a-69b9-4e25-866e-dbb2fca6af69\">\n",
              "  <button class=\"colab-df-quickchart\" onclick=\"quickchart('df-3f2d090a-69b9-4e25-866e-dbb2fca6af69')\"\n",
              "            title=\"Suggest charts\"\n",
              "            style=\"display:none;\">\n",
              "\n",
              "<svg xmlns=\"http://www.w3.org/2000/svg\" height=\"24px\"viewBox=\"0 0 24 24\"\n",
              "     width=\"24px\">\n",
              "    <g>\n",
              "        <path d=\"M19 3H5c-1.1 0-2 .9-2 2v14c0 1.1.9 2 2 2h14c1.1 0 2-.9 2-2V5c0-1.1-.9-2-2-2zM9 17H7v-7h2v7zm4 0h-2V7h2v10zm4 0h-2v-4h2v4z\"/>\n",
              "    </g>\n",
              "</svg>\n",
              "  </button>\n",
              "\n",
              "<style>\n",
              "  .colab-df-quickchart {\n",
              "      --bg-color: #E8F0FE;\n",
              "      --fill-color: #1967D2;\n",
              "      --hover-bg-color: #E2EBFA;\n",
              "      --hover-fill-color: #174EA6;\n",
              "      --disabled-fill-color: #AAA;\n",
              "      --disabled-bg-color: #DDD;\n",
              "  }\n",
              "\n",
              "  [theme=dark] .colab-df-quickchart {\n",
              "      --bg-color: #3B4455;\n",
              "      --fill-color: #D2E3FC;\n",
              "      --hover-bg-color: #434B5C;\n",
              "      --hover-fill-color: #FFFFFF;\n",
              "      --disabled-bg-color: #3B4455;\n",
              "      --disabled-fill-color: #666;\n",
              "  }\n",
              "\n",
              "  .colab-df-quickchart {\n",
              "    background-color: var(--bg-color);\n",
              "    border: none;\n",
              "    border-radius: 50%;\n",
              "    cursor: pointer;\n",
              "    display: none;\n",
              "    fill: var(--fill-color);\n",
              "    height: 32px;\n",
              "    padding: 0;\n",
              "    width: 32px;\n",
              "  }\n",
              "\n",
              "  .colab-df-quickchart:hover {\n",
              "    background-color: var(--hover-bg-color);\n",
              "    box-shadow: 0 1px 2px rgba(60, 64, 67, 0.3), 0 1px 3px 1px rgba(60, 64, 67, 0.15);\n",
              "    fill: var(--button-hover-fill-color);\n",
              "  }\n",
              "\n",
              "  .colab-df-quickchart-complete:disabled,\n",
              "  .colab-df-quickchart-complete:disabled:hover {\n",
              "    background-color: var(--disabled-bg-color);\n",
              "    fill: var(--disabled-fill-color);\n",
              "    box-shadow: none;\n",
              "  }\n",
              "\n",
              "  .colab-df-spinner {\n",
              "    border: 2px solid var(--fill-color);\n",
              "    border-color: transparent;\n",
              "    border-bottom-color: var(--fill-color);\n",
              "    animation:\n",
              "      spin 1s steps(1) infinite;\n",
              "  }\n",
              "\n",
              "  @keyframes spin {\n",
              "    0% {\n",
              "      border-color: transparent;\n",
              "      border-bottom-color: var(--fill-color);\n",
              "      border-left-color: var(--fill-color);\n",
              "    }\n",
              "    20% {\n",
              "      border-color: transparent;\n",
              "      border-left-color: var(--fill-color);\n",
              "      border-top-color: var(--fill-color);\n",
              "    }\n",
              "    30% {\n",
              "      border-color: transparent;\n",
              "      border-left-color: var(--fill-color);\n",
              "      border-top-color: var(--fill-color);\n",
              "      border-right-color: var(--fill-color);\n",
              "    }\n",
              "    40% {\n",
              "      border-color: transparent;\n",
              "      border-right-color: var(--fill-color);\n",
              "      border-top-color: var(--fill-color);\n",
              "    }\n",
              "    60% {\n",
              "      border-color: transparent;\n",
              "      border-right-color: var(--fill-color);\n",
              "    }\n",
              "    80% {\n",
              "      border-color: transparent;\n",
              "      border-right-color: var(--fill-color);\n",
              "      border-bottom-color: var(--fill-color);\n",
              "    }\n",
              "    90% {\n",
              "      border-color: transparent;\n",
              "      border-bottom-color: var(--fill-color);\n",
              "    }\n",
              "  }\n",
              "</style>\n",
              "\n",
              "  <script>\n",
              "    async function quickchart(key) {\n",
              "      const quickchartButtonEl =\n",
              "        document.querySelector('#' + key + ' button');\n",
              "      quickchartButtonEl.disabled = true;  // To prevent multiple clicks.\n",
              "      quickchartButtonEl.classList.add('colab-df-spinner');\n",
              "      try {\n",
              "        const charts = await google.colab.kernel.invokeFunction(\n",
              "            'suggestCharts', [key], {});\n",
              "      } catch (error) {\n",
              "        console.error('Error during call to suggestCharts:', error);\n",
              "      }\n",
              "      quickchartButtonEl.classList.remove('colab-df-spinner');\n",
              "      quickchartButtonEl.classList.add('colab-df-quickchart-complete');\n",
              "    }\n",
              "    (() => {\n",
              "      let quickchartButtonEl =\n",
              "        document.querySelector('#df-3f2d090a-69b9-4e25-866e-dbb2fca6af69 button');\n",
              "      quickchartButtonEl.style.display =\n",
              "        google.colab.kernel.accessAllowed ? 'block' : 'none';\n",
              "    })();\n",
              "  </script>\n",
              "</div>\n",
              "\n",
              "  <div id=\"id_396487b4-530d-489f-a6da-361d94d01ac4\">\n",
              "    <style>\n",
              "      .colab-df-generate {\n",
              "        background-color: #E8F0FE;\n",
              "        border: none;\n",
              "        border-radius: 50%;\n",
              "        cursor: pointer;\n",
              "        display: none;\n",
              "        fill: #1967D2;\n",
              "        height: 32px;\n",
              "        padding: 0 0 0 0;\n",
              "        width: 32px;\n",
              "      }\n",
              "\n",
              "      .colab-df-generate:hover {\n",
              "        background-color: #E2EBFA;\n",
              "        box-shadow: 0px 1px 2px rgba(60, 64, 67, 0.3), 0px 1px 3px 1px rgba(60, 64, 67, 0.15);\n",
              "        fill: #174EA6;\n",
              "      }\n",
              "\n",
              "      [theme=dark] .colab-df-generate {\n",
              "        background-color: #3B4455;\n",
              "        fill: #D2E3FC;\n",
              "      }\n",
              "\n",
              "      [theme=dark] .colab-df-generate:hover {\n",
              "        background-color: #434B5C;\n",
              "        box-shadow: 0px 1px 3px 1px rgba(0, 0, 0, 0.15);\n",
              "        filter: drop-shadow(0px 1px 2px rgba(0, 0, 0, 0.3));\n",
              "        fill: #FFFFFF;\n",
              "      }\n",
              "    </style>\n",
              "    <button class=\"colab-df-generate\" onclick=\"generateWithVariable('socialResults')\"\n",
              "            title=\"Generate code using this dataframe.\"\n",
              "            style=\"display:none;\">\n",
              "\n",
              "  <svg xmlns=\"http://www.w3.org/2000/svg\" height=\"24px\"viewBox=\"0 0 24 24\"\n",
              "       width=\"24px\">\n",
              "    <path d=\"M7,19H8.4L18.45,9,17,7.55,7,17.6ZM5,21V16.75L18.45,3.32a2,2,0,0,1,2.83,0l1.4,1.43a1.91,1.91,0,0,1,.58,1.4,1.91,1.91,0,0,1-.58,1.4L9.25,21ZM18.45,9,17,7.55Zm-12,3A5.31,5.31,0,0,0,4.9,8.1,5.31,5.31,0,0,0,1,6.5,5.31,5.31,0,0,0,4.9,4.9,5.31,5.31,0,0,0,6.5,1,5.31,5.31,0,0,0,8.1,4.9,5.31,5.31,0,0,0,12,6.5,5.46,5.46,0,0,0,6.5,12Z\"/>\n",
              "  </svg>\n",
              "    </button>\n",
              "    <script>\n",
              "      (() => {\n",
              "      const buttonEl =\n",
              "        document.querySelector('#id_396487b4-530d-489f-a6da-361d94d01ac4 button.colab-df-generate');\n",
              "      buttonEl.style.display =\n",
              "        google.colab.kernel.accessAllowed ? 'block' : 'none';\n",
              "\n",
              "      buttonEl.onclick = () => {\n",
              "        google.colab.notebook.generateWithVariable('socialResults');\n",
              "      }\n",
              "      })();\n",
              "    </script>\n",
              "  </div>\n",
              "\n",
              "    </div>\n",
              "  </div>\n"
            ],
            "application/vnd.google.colaboratory.intrinsic+json": {
              "type": "dataframe",
              "variable_name": "socialResults",
              "summary": "{\n  \"name\": \"socialResults\",\n  \"rows\": 2,\n  \"fields\": [\n    {\n      \"column\": \"name\",\n      \"properties\": {\n        \"dtype\": \"string\",\n        \"num_unique_values\": 2,\n        \"samples\": [\n          \"Mary\",\n          \"John\"\n        ],\n        \"semantic_type\": \"\",\n        \"description\": \"\"\n      }\n    },\n    {\n      \"column\": \"score\",\n      \"properties\": {\n        \"dtype\": \"number\",\n        \"std\": 0,\n        \"min\": 0,\n        \"max\": 1,\n        \"num_unique_values\": 2,\n        \"samples\": [\n          1,\n          0\n        ],\n        \"semantic_type\": \"\",\n        \"description\": \"\"\n      }\n    },\n    {\n      \"column\": \"strategy\",\n      \"properties\": {\n        \"dtype\": \"string\",\n        \"num_unique_values\": 2,\n        \"samples\": [\n          \"Rock\",\n          \"Scissors\"\n        ],\n        \"semantic_type\": \"\",\n        \"description\": \"\"\n      }\n    }\n  ]\n}"
            }
          },
          "metadata": {},
          "execution_count": 11
        }
      ],
      "source": [
        "import pandas as pd\n",
        "\n",
        "socialResults=pd.DataFrame((Players[0], Players[1]))\n",
        "socialResults"
      ]
    },
    {
      "cell_type": "code",
      "execution_count": 12,
      "metadata": {
        "id": "9BMCxu-J_1wc",
        "outputId": "34f60849-442b-49a3-8ca2-8b222e8b2f67",
        "colab": {
          "base_uri": "https://localhost:8080/",
          "height": 81
        }
      },
      "outputs": [
        {
          "output_type": "execute_result",
          "data": {
            "text/plain": [
              "   name  score strategy\n",
              "1  Mary      1     Rock"
            ],
            "text/html": [
              "\n",
              "  <div id=\"df-b78690c7-2aae-49a4-857f-dabf593d2ba4\" class=\"colab-df-container\">\n",
              "    <div>\n",
              "<style scoped>\n",
              "    .dataframe tbody tr th:only-of-type {\n",
              "        vertical-align: middle;\n",
              "    }\n",
              "\n",
              "    .dataframe tbody tr th {\n",
              "        vertical-align: top;\n",
              "    }\n",
              "\n",
              "    .dataframe thead th {\n",
              "        text-align: right;\n",
              "    }\n",
              "</style>\n",
              "<table border=\"1\" class=\"dataframe\">\n",
              "  <thead>\n",
              "    <tr style=\"text-align: right;\">\n",
              "      <th></th>\n",
              "      <th>name</th>\n",
              "      <th>score</th>\n",
              "      <th>strategy</th>\n",
              "    </tr>\n",
              "  </thead>\n",
              "  <tbody>\n",
              "    <tr>\n",
              "      <th>1</th>\n",
              "      <td>Mary</td>\n",
              "      <td>1</td>\n",
              "      <td>Rock</td>\n",
              "    </tr>\n",
              "  </tbody>\n",
              "</table>\n",
              "</div>\n",
              "    <div class=\"colab-df-buttons\">\n",
              "\n",
              "  <div class=\"colab-df-container\">\n",
              "    <button class=\"colab-df-convert\" onclick=\"convertToInteractive('df-b78690c7-2aae-49a4-857f-dabf593d2ba4')\"\n",
              "            title=\"Convert this dataframe to an interactive table.\"\n",
              "            style=\"display:none;\">\n",
              "\n",
              "  <svg xmlns=\"http://www.w3.org/2000/svg\" height=\"24px\" viewBox=\"0 -960 960 960\">\n",
              "    <path d=\"M120-120v-720h720v720H120Zm60-500h600v-160H180v160Zm220 220h160v-160H400v160Zm0 220h160v-160H400v160ZM180-400h160v-160H180v160Zm440 0h160v-160H620v160ZM180-180h160v-160H180v160Zm440 0h160v-160H620v160Z\"/>\n",
              "  </svg>\n",
              "    </button>\n",
              "\n",
              "  <style>\n",
              "    .colab-df-container {\n",
              "      display:flex;\n",
              "      gap: 12px;\n",
              "    }\n",
              "\n",
              "    .colab-df-convert {\n",
              "      background-color: #E8F0FE;\n",
              "      border: none;\n",
              "      border-radius: 50%;\n",
              "      cursor: pointer;\n",
              "      display: none;\n",
              "      fill: #1967D2;\n",
              "      height: 32px;\n",
              "      padding: 0 0 0 0;\n",
              "      width: 32px;\n",
              "    }\n",
              "\n",
              "    .colab-df-convert:hover {\n",
              "      background-color: #E2EBFA;\n",
              "      box-shadow: 0px 1px 2px rgba(60, 64, 67, 0.3), 0px 1px 3px 1px rgba(60, 64, 67, 0.15);\n",
              "      fill: #174EA6;\n",
              "    }\n",
              "\n",
              "    .colab-df-buttons div {\n",
              "      margin-bottom: 4px;\n",
              "    }\n",
              "\n",
              "    [theme=dark] .colab-df-convert {\n",
              "      background-color: #3B4455;\n",
              "      fill: #D2E3FC;\n",
              "    }\n",
              "\n",
              "    [theme=dark] .colab-df-convert:hover {\n",
              "      background-color: #434B5C;\n",
              "      box-shadow: 0px 1px 3px 1px rgba(0, 0, 0, 0.15);\n",
              "      filter: drop-shadow(0px 1px 2px rgba(0, 0, 0, 0.3));\n",
              "      fill: #FFFFFF;\n",
              "    }\n",
              "  </style>\n",
              "\n",
              "    <script>\n",
              "      const buttonEl =\n",
              "        document.querySelector('#df-b78690c7-2aae-49a4-857f-dabf593d2ba4 button.colab-df-convert');\n",
              "      buttonEl.style.display =\n",
              "        google.colab.kernel.accessAllowed ? 'block' : 'none';\n",
              "\n",
              "      async function convertToInteractive(key) {\n",
              "        const element = document.querySelector('#df-b78690c7-2aae-49a4-857f-dabf593d2ba4');\n",
              "        const dataTable =\n",
              "          await google.colab.kernel.invokeFunction('convertToInteractive',\n",
              "                                                    [key], {});\n",
              "        if (!dataTable) return;\n",
              "\n",
              "        const docLinkHtml = 'Like what you see? Visit the ' +\n",
              "          '<a target=\"_blank\" href=https://colab.research.google.com/notebooks/data_table.ipynb>data table notebook</a>'\n",
              "          + ' to learn more about interactive tables.';\n",
              "        element.innerHTML = '';\n",
              "        dataTable['output_type'] = 'display_data';\n",
              "        await google.colab.output.renderOutput(dataTable, element);\n",
              "        const docLink = document.createElement('div');\n",
              "        docLink.innerHTML = docLinkHtml;\n",
              "        element.appendChild(docLink);\n",
              "      }\n",
              "    </script>\n",
              "  </div>\n",
              "\n",
              "\n",
              "    </div>\n",
              "  </div>\n"
            ],
            "application/vnd.google.colaboratory.intrinsic+json": {
              "type": "dataframe",
              "summary": "{\n  \"name\": \"socialResults[socialResults\",\n  \"rows\": 1,\n  \"fields\": [\n    {\n      \"column\": \"name\",\n      \"properties\": {\n        \"dtype\": \"string\",\n        \"num_unique_values\": 1,\n        \"samples\": [\n          \"Mary\"\n        ],\n        \"semantic_type\": \"\",\n        \"description\": \"\"\n      }\n    },\n    {\n      \"column\": \"score\",\n      \"properties\": {\n        \"dtype\": \"number\",\n        \"std\": null,\n        \"min\": 1,\n        \"max\": 1,\n        \"num_unique_values\": 1,\n        \"samples\": [\n          1\n        ],\n        \"semantic_type\": \"\",\n        \"description\": \"\"\n      }\n    },\n    {\n      \"column\": \"strategy\",\n      \"properties\": {\n        \"dtype\": \"string\",\n        \"num_unique_values\": 1,\n        \"samples\": [\n          \"Rock\"\n        ],\n        \"semantic_type\": \"\",\n        \"description\": \"\"\n      }\n    }\n  ]\n}"
            }
          },
          "metadata": {},
          "execution_count": 12
        }
      ],
      "source": [
        "winnerScore=socialResults.score.max()\n",
        "\n",
        "#social outcome\n",
        "socialResults[socialResults.score==winnerScore]"
      ]
    },
    {
      "cell_type": "markdown",
      "metadata": {
        "id": "6e5Dr-fg_1wd"
      },
      "source": [
        "# More players"
      ]
    },
    {
      "cell_type": "code",
      "execution_count": 13,
      "metadata": {
        "id": "EHF193yd_1wd"
      },
      "outputs": [],
      "source": [
        "# names of players\n",
        "names=['Jim','Jane','Peter','Zoe']"
      ]
    },
    {
      "cell_type": "code",
      "execution_count": 14,
      "metadata": {
        "id": "H2ihZbSL_1wd"
      },
      "outputs": [],
      "source": [
        "# setting up players\n",
        "society=[{'name':n,'score':0,'strategy':None} for n in names]"
      ]
    },
    {
      "cell_type": "code",
      "execution_count": 15,
      "metadata": {
        "id": "QHqTSCdV_1wd",
        "outputId": "b3a000f6-337f-4978-dd3a-316a07072ecc",
        "colab": {
          "base_uri": "https://localhost:8080/"
        }
      },
      "outputs": [
        {
          "output_type": "execute_result",
          "data": {
            "text/plain": [
              "[{'name': 'Jim', 'score': 0, 'strategy': None},\n",
              " {'name': 'Jane', 'score': 0, 'strategy': None},\n",
              " {'name': 'Peter', 'score': 0, 'strategy': None},\n",
              " {'name': 'Zoe', 'score': 0, 'strategy': None}]"
            ]
          },
          "metadata": {},
          "execution_count": 15
        }
      ],
      "source": [
        "# each player a dict:\n",
        "society"
      ]
    },
    {
      "cell_type": "code",
      "execution_count": 16,
      "metadata": {
        "id": "5WkQTy3O_1we",
        "outputId": "df912e60-3432-49cb-84d4-503b00b6675c",
        "colab": {
          "base_uri": "https://localhost:8080/"
        }
      },
      "outputs": [
        {
          "output_type": "stream",
          "name": "stdout",
          "text": [
            "({'name': 'Jim', 'score': 0, 'strategy': None}, {'name': 'Jane', 'score': 0, 'strategy': None})\n",
            "({'name': 'Jim', 'score': 0, 'strategy': None}, {'name': 'Peter', 'score': 0, 'strategy': None})\n",
            "({'name': 'Jim', 'score': 0, 'strategy': None}, {'name': 'Zoe', 'score': 0, 'strategy': None})\n",
            "({'name': 'Jane', 'score': 0, 'strategy': None}, {'name': 'Peter', 'score': 0, 'strategy': None})\n",
            "({'name': 'Jane', 'score': 0, 'strategy': None}, {'name': 'Zoe', 'score': 0, 'strategy': None})\n",
            "({'name': 'Peter', 'score': 0, 'strategy': None}, {'name': 'Zoe', 'score': 0, 'strategy': None})\n"
          ]
        }
      ],
      "source": [
        "import itertools\n",
        "\n",
        "# pair is a tuple of dicts\n",
        "for pair in itertools.combinations(society,2):\n",
        "    print(pair)"
      ]
    },
    {
      "cell_type": "code",
      "execution_count": 17,
      "metadata": {
        "id": "UhC7w5qt_1we",
        "outputId": "491bfdbf-f560-4ec9-a6e2-c10a77bd1e06",
        "colab": {
          "base_uri": "https://localhost:8080/"
        }
      },
      "outputs": [
        {
          "output_type": "stream",
          "name": "stdout",
          "text": [
            "{'name': 'Jim', 'score': 0, 'strategy': None} {'name': 'Jane', 'score': 0, 'strategy': None}\n",
            "{'name': 'Jim', 'score': 0, 'strategy': None} {'name': 'Peter', 'score': 0, 'strategy': None}\n",
            "{'name': 'Jim', 'score': 0, 'strategy': None} {'name': 'Zoe', 'score': 0, 'strategy': None}\n",
            "{'name': 'Jane', 'score': 0, 'strategy': None} {'name': 'Peter', 'score': 0, 'strategy': None}\n",
            "{'name': 'Jane', 'score': 0, 'strategy': None} {'name': 'Zoe', 'score': 0, 'strategy': None}\n",
            "{'name': 'Peter', 'score': 0, 'strategy': None} {'name': 'Zoe', 'score': 0, 'strategy': None}\n"
          ]
        }
      ],
      "source": [
        "import itertools\n",
        "\n",
        "# each dict\n",
        "for player1,player2 in itertools.combinations(society,2):\n",
        "    print(player1,player2)"
      ]
    },
    {
      "cell_type": "code",
      "execution_count": 18,
      "metadata": {
        "id": "p54uKoPS_1we"
      },
      "outputs": [],
      "source": [
        "# resetting society\n",
        "society=[{'name':n,'score':0,'strategy':None} for n in names]\n",
        "\n",
        "# several rounds\n",
        "for aRound in range(100):\n",
        "\n",
        "    # en each round:\n",
        "    for player1,player2 in itertools.combinations(society,2):\n",
        "        # each chooses strategy\n",
        "        player1['strategy']=choice(strategies)\n",
        "\n",
        "        player2['strategy']=choice(strategies)\n",
        "\n",
        "        # result from strategy chosen\n",
        "        result=payoff[player1['strategy'],player2['strategy']]\n",
        "\n",
        "        # update scores\n",
        "        player1['score']+=result[0]\n",
        "        player2['score']+=result[1]\n",
        ""
      ]
    },
    {
      "cell_type": "code",
      "execution_count": 19,
      "metadata": {
        "id": "wFsPVVSq_1wf",
        "outputId": "e749b063-5e9e-4d79-9cb9-27e13635552d",
        "colab": {
          "base_uri": "https://localhost:8080/"
        }
      },
      "outputs": [
        {
          "output_type": "execute_result",
          "data": {
            "text/plain": [
              "[{'name': 'Jim', 'score': 86, 'strategy': 'Paper'},\n",
              " {'name': 'Jane', 'score': 113, 'strategy': 'Scissors'},\n",
              " {'name': 'Peter', 'score': 89, 'strategy': 'Scissors'},\n",
              " {'name': 'Zoe', 'score': 95, 'strategy': 'Paper'}]"
            ]
          },
          "metadata": {},
          "execution_count": 19
        }
      ],
      "source": [
        "# final situation\n",
        "society"
      ]
    },
    {
      "cell_type": "code",
      "execution_count": null,
      "metadata": {
        "id": "--JP4mNS_1wg"
      },
      "outputs": [],
      "source": [
        "# as a data frame\n",
        "socialResults=pd.DataFrame(society)\n",
        "socialResults"
      ]
    },
    {
      "cell_type": "code",
      "execution_count": null,
      "metadata": {
        "id": "lua01iPX_1wg"
      },
      "outputs": [],
      "source": [
        "winnerScore=socialResults.score.max()\n",
        "\n",
        "#social outcome\n",
        "socialResults[socialResults.score==winnerScore]"
      ]
    },
    {
      "cell_type": "markdown",
      "metadata": {
        "id": "ZfGtbT6U_1wh"
      },
      "source": [
        "### Exercise 1\n",
        "<div class=\"alert-success\">\n",
        "\n",
        "What code would you add  to see the live the results of this last tournament?\n",
        "    \n",
        "</div>"
      ]
    },
    {
      "cell_type": "markdown",
      "metadata": {
        "id": "Y1dXe-xm_1wh"
      },
      "source": [
        "### Exercise 2\n",
        "<div class=\"alert-success\">\n",
        "\n",
        "How would you implement this game for 10 players, and get the results?\n",
        "    \n",
        "</div>\n",
        "<img src=\"https://i.imgur.com/DE5mjs4.jpg\"/>"
      ]
    },
    {
      "cell_type": "markdown",
      "metadata": {
        "id": "0VAZiWYM_1wi"
      },
      "source": [
        "# Abstraction of agents\n",
        "\n",
        "Let's see some abstraction known 'OOP', which stands for Objetc-Oriented Programming.\n",
        "\n",
        "* This is the creation of an agent object and its methods:"
      ]
    },
    {
      "cell_type": "code",
      "execution_count": null,
      "metadata": {
        "id": "lWMv4EZK_1wi"
      },
      "outputs": [],
      "source": [
        "class Player:    # object class\n",
        "\n",
        "    def __init__(self,name,score=0): # create the object (self) for the class\n",
        "        self.name=name               # with some variables\n",
        "        self.score=score\n",
        "\n",
        "    def increase_score(self,value):  # metho for object class\n",
        "        self.score+=value"
      ]
    },
    {
      "cell_type": "markdown",
      "metadata": {
        "id": "5PfGFawv_1wj"
      },
      "source": [
        "Once created, you can give origin to instances of the object:"
      ]
    },
    {
      "cell_type": "code",
      "execution_count": null,
      "metadata": {
        "id": "3ZM8EROx_1wj"
      },
      "outputs": [],
      "source": [
        "Mary=Player(\"Mary\")\n",
        "John=Player(\"John\")"
      ]
    },
    {
      "cell_type": "markdown",
      "metadata": {
        "id": "MK40ogdu_1wj"
      },
      "source": [
        "Let's use some previous code:"
      ]
    },
    {
      "cell_type": "code",
      "execution_count": null,
      "metadata": {
        "id": "u-5-UKDq_1wt"
      },
      "outputs": [],
      "source": [
        "John_strategy=choice(strategies)\n",
        "Mary_strategy=choice(strategies)\n",
        "\n",
        "John_PayOff,Mary_PayOff=payoff[John_strategy,Mary_strategy]\n",
        "John_PayOff,Mary_PayOff"
      ]
    },
    {
      "cell_type": "markdown",
      "metadata": {
        "id": "VRblkNaS_1wu"
      },
      "source": [
        "We use those values to change the instaces' variables, as defined in the object class:"
      ]
    },
    {
      "cell_type": "code",
      "execution_count": null,
      "metadata": {
        "id": "jMADJuKg_1wu"
      },
      "outputs": [],
      "source": [
        "John.increase_score(John_PayOff)\n",
        "Mary.increase_score(Mary_PayOff)"
      ]
    },
    {
      "cell_type": "markdown",
      "metadata": {
        "id": "o0BfJGSz_1wu"
      },
      "source": [
        "The instances did update the score:"
      ]
    },
    {
      "cell_type": "code",
      "execution_count": null,
      "metadata": {
        "id": "oIFKLNq8_1wu"
      },
      "outputs": [],
      "source": [
        "John.score, Mary.score"
      ]
    },
    {
      "cell_type": "markdown",
      "metadata": {
        "id": "EE6aoROX_1wv"
      },
      "source": [
        "* A new class that inherists previous class:"
      ]
    },
    {
      "cell_type": "code",
      "execution_count": null,
      "metadata": {
        "id": "0QxDVuxV_1ww"
      },
      "outputs": [],
      "source": [
        "class PlayerBetter(Player):\n",
        "    def __init__(self,name,score=0):\n",
        "        Player.__init__(self,name,score=0)\n",
        "        self.strategy=None\n",
        "\n",
        "    def increase_score(self,value):\n",
        "        self.score+=value\n",
        "\n",
        "    def get_strategy(self):\n",
        "        from random import choice\n",
        "        strategies=['Rock','Paper','Scissors']\n",
        "        self.strategy=choice(strategies)\n",
        "        return self.strategy"
      ]
    },
    {
      "cell_type": "markdown",
      "metadata": {
        "id": "_9sFrRa9_1ww"
      },
      "source": [
        "We can use the new class:"
      ]
    },
    {
      "cell_type": "code",
      "execution_count": null,
      "metadata": {
        "id": "6HWZtg--_1wx"
      },
      "outputs": [],
      "source": [
        "Mary=PlayerBetter(\"Mary\")\n",
        "John=PlayerBetter(\"John\")\n",
        "\n",
        "# not needed\n",
        "# John_strategy=choice(strategies)\n",
        "# Mary_strategy=choice(strategies)\n",
        "\n",
        "John_PayOff,Mary_PayOff=payoff[John.get_strategy(),Mary.get_strategy()]\n",
        "John.increase_score(John_PayOff)\n",
        "Mary.increase_score(Mary_PayOff)\n",
        "##\n",
        "John.score, Mary.score"
      ]
    },
    {
      "cell_type": "markdown",
      "metadata": {
        "id": "BdGDyGxD_1wx"
      },
      "source": [
        "The new class saves the current strategy:"
      ]
    },
    {
      "cell_type": "code",
      "execution_count": null,
      "metadata": {
        "id": "glEPeuZL_1wx"
      },
      "outputs": [],
      "source": [
        "print(John.strategy, Mary.strategy)"
      ]
    },
    {
      "cell_type": "markdown",
      "metadata": {
        "id": "i2fCfFvq_1wy"
      },
      "source": [
        "We can use the new class repeatedly:"
      ]
    },
    {
      "cell_type": "code",
      "execution_count": null,
      "metadata": {
        "id": "WrTgdsZl_1wy"
      },
      "outputs": [],
      "source": [
        "Mary=PlayerBetter(\"Mary\")\n",
        "John=PlayerBetter(\"John\")\n",
        "\n",
        "for i in range(10):\n",
        "    John_PayOff,Mary_PayOff=payoff[John.get_strategy(),Mary.get_strategy()]\n",
        "    John.increase_score(John_PayOff)\n",
        "    Mary.increase_score(Mary_PayOff)\n",
        "    # see current result\n",
        "    print('round:',i+1)\n",
        "    print(John.score, Mary.score)\n",
        "    print(John.strategy, Mary.strategy)"
      ]
    },
    {
      "cell_type": "markdown",
      "metadata": {
        "id": "FJM__bbG_1wy"
      },
      "source": [
        "<div class=\"alert alert-danger\">\n",
        "  <strong>CHALLENGE!</strong>\n",
        "   <br> * Create classes that allows you to have several players play 100 rounds.\n",
        "   <br> * Save the scores.\n",
        "   <br> * Declare a winner\n",
        "</div>"
      ]
    }
  ],
  "metadata": {
    "hide_input": false,
    "kernelspec": {
      "display_name": "Python 3 (ipykernel)",
      "language": "python",
      "name": "python3"
    },
    "language_info": {
      "codemirror_mode": {
        "name": "ipython",
        "version": 3
      },
      "file_extension": ".py",
      "mimetype": "text/x-python",
      "name": "python",
      "nbconvert_exporter": "python",
      "pygments_lexer": "ipython3",
      "version": "3.11.9"
    },
    "colab": {
      "provenance": []
    }
  },
  "nbformat": 4,
  "nbformat_minor": 0
}